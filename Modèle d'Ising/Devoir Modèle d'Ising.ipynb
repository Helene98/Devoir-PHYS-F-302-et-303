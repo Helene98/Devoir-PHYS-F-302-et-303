{
 "cells": [
  {
   "cell_type": "markdown",
   "metadata": {},
   "source": [
    "## Challenge 1\n",
    "\n",
    "Le challenge consiste à déterminer l'énergie moyenne et la magnétisation moyenne en fonction de différentes valeurs du paramètre libre $\\alpha=J/(k T)$ . Pour cela, nous allons d'abord, à partir d'un état dont les spins sont tous positifs (+1) générer des états avec des spins aléatoires en utilisant l’algorithme de Metropolis. Ensuite, nous allons générer 50 états, chacun possédant 50x50 spins, en utilisant la méthode d'Ising. \n",
    "L'énergie et magnétisation moyennes sont calculées grâce aux formules suivantes: \n",
    "\n",
    "\\begin{align*}\n",
    "&<E> = \\frac{\\sum_k E_k}{N_k} \\\\\n",
    "&<M> = \\frac{\\sum_k M_k}{N_k}\n",
    "\\end{align*}\n",
    "\n",
    "avec $N_k$ le nombre d'états générés pour un $\\alpha$ donné."
   ]
  },
  {
   "cell_type": "code",
   "execution_count": 1,
   "metadata": {},
   "outputs": [],
   "source": [
    "%matplotlib inline\n",
    "import numpy\n",
    "from matplotlib import pyplot\n",
    "import matplotlib.cm as cm\n",
    "from matplotlib import animation\n",
    "from IPython.display import HTML\n",
    "import random"
   ]
  },
  {
   "cell_type": "code",
   "execution_count": 2,
   "metadata": {},
   "outputs": [],
   "source": [
    "nx=50\n",
    "ny=50\n",
    "sp = numpy.ones([nx,ny])\n",
    "NMC = 50"
   ]
  },
  {
   "cell_type": "code",
   "execution_count": 3,
   "metadata": {},
   "outputs": [],
   "source": [
    "#On calcule l'énergie de chaque site de notre état\n",
    "def energy_at_site(sp,alpha,sigma,ix,iy):\n",
    "    energy=-alpha*sigma*(sp[(ix-1)%nx,iy]+sp[(ix+1)%nx,iy]+sp[ix,(iy-1)%ny]+sp[ix,(iy+1)%ny])\n",
    "    return energy"
   ]
  },
  {
   "cell_type": "markdown",
   "metadata": {},
   "source": [
    "On définit un algorithme qui change de signe le spin d'un site si la condition suivante est satisfaite:\n",
    "\n",
    "$$\n",
    "p_{\\rm flip}=e^{-\\Delta E},\n",
    "$$\n",
    "\n",
    "avec $\\Delta E$ la différence entre l'énergie du site avant et après changement de spin."
   ]
  },
  {
   "cell_type": "code",
   "execution_count": 4,
   "metadata": {},
   "outputs": [],
   "source": [
    "def metropolis_at_site(sp,alpha,ix,iy):\n",
    "    sigma=sp[ix,iy]  #Sigma est la valeur de spin à la position (ix,iy) de notre état\n",
    "    energy_before_flip = energy_at_site(sp,alpha,sigma,ix,iy) #On calcule l'énergie du site\n",
    "    sigma = -sigma\n",
    "    energy_if_site_flipped = energy_at_site(sp,alpha,sigma,ix,iy) #L'énergie change de signe\n",
    "    if (numpy.random.random_sample()<numpy.exp(-(energy_if_site_flipped \\\n",
    "                                               -energy_before_flip))):    #On change de spin si la condition est satisfaite\n",
    "        sp[ix,iy]=-sp[ix,iy]\n",
    "    return sp[ix,iy]"
   ]
  },
  {
   "cell_type": "markdown",
   "metadata": {},
   "source": [
    "Nous utilisons maintenant le modèle d'Ising afin de générer un certain nombre d'états. Le spin de chaque état est modifié grâce à l’algorithme de Metropolis."
   ]
  },
  {
   "cell_type": "code",
   "execution_count": 5,
   "metadata": {},
   "outputs": [],
   "source": [
    "def ising_model_metropolis(sp, NMC, nx, ny, alpha):\n",
    "    states = numpy.empty([NMC+1,nx,ny]) # On définit une liste de matrices nulles\n",
    "    states[0] = sp.copy() #le premier élément de la liste est la matrice sp de départ\n",
    "    \n",
    "    for i in range(1,NMC+1):\n",
    "        for j in range(0,nx*ny):\n",
    "            ix=numpy.random.randint(0,nx) #On définit ix comme un nombre aléatoire entre 0 et nx \n",
    "            iy=numpy.random.randint(0,ny)\n",
    "            metropolis_at_site(sp,alpha,ix,iy) #On modifie le spin du site (ix,iy) \n",
    "        states[i]=sp.copy() #On place le nouvel état obtenu dans notre liste de matrices\n",
    "    return states"
   ]
  },
  {
   "cell_type": "markdown",
   "metadata": {},
   "source": [
    "On est prêts à calculer l'énergie et magnétisation moyennes pour chaque valeur de $\\alpha$."
   ]
  },
  {
   "cell_type": "code",
   "execution_count": 6,
   "metadata": {},
   "outputs": [],
   "source": [
    "def ising_model_mean_energy_mag(sp, NMC, nx, ny):\n",
    "    stp = (1/NMC) #On définit le step avec lequel alpha évolue\n",
    "    alpha=0\n",
    "    alist=[]\n",
    "    meanlist=[]\n",
    "    maglist=[]\n",
    "    for l in range(0,NMC):\n",
    "        b=[]\n",
    "        alpha=alpha + stp #On modifie alpha\n",
    "        matrixlist = ising_model_metropolis(sp, NMC, nx, ny, alpha) #On génère une série d'états pour un alpha donné\n",
    "        a = matrixlist.sum(axis=(1,2)) #On  somme tous les éléments de chaque matrice dans la liste\n",
    "        a = numpy.delete(a,0) #On enlève le premier élément qui correspond à la matrice sp dont tout les spins sont inchangés\n",
    "        matrixlist = numpy.array(matrixlist)\n",
    "        for i in range(1,NMC+1):\n",
    "            for j in range(0,ny):\n",
    "                for k in range(0,nx):\n",
    "                    sigma=matrixlist[i,j,k] #Sigma est la valeur de spin à un site donné\n",
    "                    eas = energy_at_site(matrixlist[i],alpha,sigma,j,k) #On calcule l'énergie de chaque site\n",
    "                    b=numpy.append(b,eas) #On stocke l'énergie dans une liste\n",
    "                    k=k+1\n",
    "                j=j+1\n",
    "            i=i+1\n",
    "            b = numpy.array(b) #On somme les énergies\n",
    "        mag=(numpy.sum(a))/NMC #On calcule la magnétisation moyenne\n",
    "        mean = numpy.sum(b)/NMC #On calcule l'énergie moyenne\n",
    "        meanlist.append(mean)\n",
    "        maglist.append(mag)\n",
    "        l=l+1\n",
    "        alist.append(alpha)\n",
    "    return alist, meanlist, maglist"
   ]
  },
  {
   "cell_type": "code",
   "execution_count": 7,
   "metadata": {},
   "outputs": [],
   "source": [
    "a, b, c = ising_model_mean_energy_mag(sp, NMC, nx, ny)"
   ]
  },
  {
   "cell_type": "markdown",
   "metadata": {},
   "source": [
    "Le graphe obtenu pour l'énergie moyenne est le suivant:"
   ]
  },
  {
   "cell_type": "code",
   "execution_count": 8,
   "metadata": {},
   "outputs": [
    {
     "data": {
      "text/plain": [
       "[<matplotlib.lines.Line2D at 0x107d7ec50>]"
      ]
     },
     "execution_count": 8,
     "metadata": {},
     "output_type": "execute_result"
    },
    {
     "data": {
      "image/png": "[encoded data removed]",
      "text/plain": [
       "<Figure size 432x288 with 1 Axes>"
      ]
     },
     "metadata": {
      "needs_background": "light"
     },
     "output_type": "display_data"
    }
   ],
   "source": [
    "pyplot.plot(a,b,'-b.')"
   ]
  },
  {
   "cell_type": "markdown",
   "metadata": {},
   "source": [
    "Pour la magnétisation, nous obtenons:"
   ]
  },
  {
   "cell_type": "code",
   "execution_count": 9,
   "metadata": {},
   "outputs": [
    {
     "data": {
      "text/plain": [
       "[<matplotlib.lines.Line2D at 0x117299978>]"
      ]
     },
     "execution_count": 9,
     "metadata": {},
     "output_type": "execute_result"
    },
    {
     "data": {
      "image/png": "[encoded data removed]",
      "text/plain": [
       "<Figure size 432x288 with 1 Axes>"
      ]
     },
     "metadata": {
      "needs_background": "light"
     },
     "output_type": "display_data"
    }
   ],
   "source": [
    "pyplot.plot(a,c,'-b.')"
   ]
  },
  {
   "cell_type": "markdown",
   "metadata": {},
   "source": [
    "La solution exacte d'Onsager pour un modèle d'Ising à 2 dimensions prédit que [1] :\n",
    "\n",
    "$$\n",
    "\\frac{kT_c}{J}=2.269185 \\Rightarrow \\alpha = \\frac{J}{kT_c} = 0.44  \n",
    "$$\n",
    "\n",
    "Nous observons en effet sur les deux graphiques ci-dessus que la transition de phase à lieu autour de cette valeur de $\\alpha$."
   ]
  },
  {
   "cell_type": "markdown",
   "metadata": {},
   "source": [
    "## Challenge 2\n",
    "\n",
    "Nous générons ensuite une autre condition initiale en choisissant des valeurs de spin aléatoires pour chaque site, comme défini ci-dessous :"
   ]
  },
  {
   "cell_type": "code",
   "execution_count": 10,
   "metadata": {},
   "outputs": [],
   "source": [
    "def initial_state(nx,ny):  \n",
    "    r = numpy.random.randint(0,2,(nx,ny))\n",
    "    r[r==0] =-1\n",
    "\n",
    "    return r"
   ]
  },
  {
   "cell_type": "code",
   "execution_count": 11,
   "metadata": {},
   "outputs": [],
   "source": [
    "a, d, e = ising_model_mean_energy_mag(initial_state(nx,ny), NMC, nx, ny)"
   ]
  },
  {
   "cell_type": "markdown",
   "metadata": {},
   "source": [
    "Pour l'énergie moyenne, on obtient:"
   ]
  },
  {
   "cell_type": "code",
   "execution_count": 12,
   "metadata": {},
   "outputs": [
    {
     "data": {
      "text/plain": [
       "[<matplotlib.lines.Line2D at 0x11775e8d0>]"
      ]
     },
     "execution_count": 12,
     "metadata": {},
     "output_type": "execute_result"
    },
    {
     "data": {
      "image/png": "[encoded data removed]",
      "text/plain": [
       "<Figure size 432x288 with 1 Axes>"
      ]
     },
     "metadata": {
      "needs_background": "light"
     },
     "output_type": "display_data"
    }
   ],
   "source": [
    "pyplot.plot(a,d,'-b.')"
   ]
  },
  {
   "cell_type": "markdown",
   "metadata": {},
   "source": [
    "Pour la magnétisation, on obtient:"
   ]
  },
  {
   "cell_type": "code",
   "execution_count": 13,
   "metadata": {},
   "outputs": [
    {
     "data": {
      "text/plain": [
       "[<matplotlib.lines.Line2D at 0x11719d4a8>]"
      ]
     },
     "execution_count": 13,
     "metadata": {},
     "output_type": "execute_result"
    },
    {
     "data": {
      "image/png": "[encoded data removed]",
      "text/plain": [
       "<Figure size 432x288 with 1 Axes>"
      ]
     },
     "metadata": {
      "needs_background": "light"
     },
     "output_type": "display_data"
    }
   ],
   "source": [
    "pyplot.plot(a,e,'-b.')"
   ]
  },
  {
   "cell_type": "markdown",
   "metadata": {},
   "source": [
    "Nous observons que pour une condition initiale différente, les transitions de phase ont lieu à la même valeur de $\\alpha$."
   ]
  },
  {
   "cell_type": "markdown",
   "metadata": {},
   "source": [
    "Références:\n",
    "\n",
    "[1]  https://homepages.warwick.ac.uk/~masdbn/9511003.pdf?fbclid=IwAR3s_4HpC_uhWlSXak05CrGl_EI7Nqv-fgUWkfLITozCAi1LFHD9Ttd9B-M"
   ]
  }
 ],
 "metadata": {
  "kernelspec": {
   "display_name": "Python 3",
   "language": "python",
   "name": "python3"
  },
  "language_info": {
   "codemirror_mode": {
    "name": "ipython",
    "version": 3
   },
   "file_extension": ".py",
   "mimetype": "text/x-python",
   "name": "python",
   "nbconvert_exporter": "python",
   "pygments_lexer": "ipython3",
   "version": "3.7.0"
  }
 },
 "nbformat": 4,
 "nbformat_minor": 2
}
