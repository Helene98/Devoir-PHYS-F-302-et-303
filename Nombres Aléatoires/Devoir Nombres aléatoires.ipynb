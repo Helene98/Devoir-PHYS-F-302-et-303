{
 "cells": [
  {
   "cell_type": "markdown",
   "metadata": {},
   "source": [
    "## Challenge 1"
   ]
  },
  {
   "cell_type": "markdown",
   "metadata": {},
   "source": [
    "Nous utilisons le générateur de nombres aléatoires \"numpy.random.normal\" de la librairie Python (Generate pseudo-random numbers, Lib/random.py) afin de créer un histogramme (en bleu). Nous comparons ensuite cet histogramme avec la distribution gaussienne donnée analytiquement (en rouge). Enfin, la méthode de rejet de Von Neumann produit un ensemble de nombres suivant une distribution spécifique voulue (une gaussienne dans ce cas, en orange) en partant d'une distribution initiale (par exemple une exponentielle).\n",
    "\n",
    "\n",
    "En guise d'exemple, afin de montrer que les trois méthodes citées ci-dessus donnent les mêmes résultats, nous avons pris une gaussienne de moyenne 0 et d'écart-type 1.\n",
    "\n",
    "\n",
    "Pour la méthode de Von Neumann, nous commençons à partir de la densité $f(x)$ suivante [1]:\n",
    "\n",
    "$$\n",
    "f(x) = \\frac{2}{\\sqrt{2 \\pi}}e^{-\\frac{x^2}{2}},\n",
    "$$\n",
    "\n",
    "et nous choisissons une densité exponentielle $g(x)$:\n",
    "\n",
    "$$\n",
    "g(x) = e^{-x},\n",
    "$$\n",
    "où nous avons choisi $\\alpha = 1$.\n",
    "\n",
    "Définissons $h(x) = \\frac{f(x)}{g(x)}$. Nous obtenons\n",
    "\n",
    "$$\n",
    "h(x)= \\sqrt{\\frac{2}{\\pi}}e^{x-\\frac{x^2}{2}}.\n",
    "$$\n",
    "Nous cherchons ensuite le maximum de la fonction $h(x)$: \n",
    "\n",
    "$$\n",
    "h'(x)= \\sqrt{\\frac{2}{\\pi}}e^{x-\\frac{x^2}{2}}(1-x) = 0 \\Rightarrow x = 1.\n",
    "$$\n",
    "\n",
    "La constante $K$ est ensuite calculée de la manière suivante:\n",
    "\n",
    "$$\n",
    "K = \\frac{f(1)}{g(1)} = \\sqrt{\\frac{2 e}{\\pi}} = 1.31.\n",
    "$$"
   ]
  },
  {
   "cell_type": "code",
   "execution_count": 30,
   "metadata": {},
   "outputs": [],
   "source": [
    "from matplotlib import pyplot\n",
    "import numpy\n",
    "import random\n",
    "from random import gauss\n",
    "%matplotlib inline\n",
    "import matplotlib.pyplot as plt\n",
    "import numpy as np\n",
    "from matplotlib import rcParams\n",
    "rcParams['font.family'] = 'serif'\n",
    "rcParams['font.size'] = 16"
   ]
  },
  {
   "cell_type": "code",
   "execution_count": 8,
   "metadata": {},
   "outputs": [
    {
     "data": {
      "text/plain": [
       "[<matplotlib.lines.Line2D at 0x11a0610b8>]"
      ]
     },
     "execution_count": 8,
     "metadata": {},
     "output_type": "execute_result"
    },
    {
     "data": {
      "image/png": "[encoded data removed]",
      "text/plain": [
       "<Figure size 432x288 with 1 Axes>"
      ]
     },
     "metadata": {
      "needs_background": "light"
     },
     "output_type": "display_data"
    }
   ],
   "source": [
    "mu=0      # valeur moyenne de la gaussienne\n",
    "sigma = 1 # écart-type de la gaussienne\n",
    "b=[]      # liste vide dans laquelle on va placer les nombres générés \n",
    "          # aléatoirement sur base d'une distribution gaussienne\n",
    "\n",
    "h=[]      # liste vide utilisée pour la méthode de Von Neumann\n",
    "N = 100000\n",
    "K = 1.3\n",
    "binwidth=0.1\n",
    "\n",
    "for i in range (1,100000):\n",
    "    j = numpy.random.normal(mu, sigma)\n",
    "    b.append(j)\n",
    "\n",
    "# Histogramme\n",
    "bins=numpy.arange(-5.,0.1, binwidth)\n",
    "pyplot.hist(b,bins,density=True,color='blue')\n",
    "\n",
    "# Méthode de Von Neumann\n",
    "for i in range(N):\n",
    "    u1 = numpy.random.random_sample()\n",
    "    \n",
    "    # On distribue g selon une exponentielle\n",
    "    g = numpy.log(1/(1-u1))\n",
    "    \n",
    "    # on génère un deuxième nombre aléatoire pour la condition de rejet\n",
    "    u2 = numpy.random.random_sample()\n",
    "    \n",
    "    # condition de rejet\n",
    "    term1=2*numpy.exp(-g**2/2.0)/numpy.sqrt(2*numpy.pi)\n",
    "    term2=(K*numpy.exp(-g))\n",
    "    ratio = term1/term2\n",
    "    if (u2<ratio):\n",
    "        h.append(g)\n",
    "\n",
    "pyplot.hist(h,bins=numpy.arange(0.,5., binwidth),density=True,color='orange')\n",
    "\n",
    "# On ajoute à l'histogramme la fonction analytique\n",
    "bins=numpy.arange(-5,5., binwidth)\n",
    "xc = bins[:-1] + binwidth/2\n",
    "fct=2*numpy.exp(-xc**2/2.0)/numpy.sqrt(2*numpy.pi)\n",
    "pyplot.plot(xc,fct,'r--',color='red',linewidth=2)"
   ]
  },
  {
   "cell_type": "markdown",
   "metadata": {},
   "source": [
    "Les trois méthodes utilisées donnent donc les mêmes résultats."
   ]
  },
  {
   "cell_type": "markdown",
   "metadata": {},
   "source": [
    "Faisons de même pour la distribution exponentielle. Nous utilisons cette fois-ci le générateur \"random.expovariate\" afin de créer cette distribution. Nous la comparons ensuite avec la courbe obtenue grâce à l'expression analytique de la distribution:\n",
    "\n",
    "$$\n",
    "p(x)=\n",
    "\\begin{cases} \n",
    "\\alpha e^{-\\alpha x} &\\mbox{si } x\\geq 0 \\\\\n",
    "0 &\\mbox{si } x<0\n",
    "\\end{cases} \n",
    "$$\n",
    "\n",
    "où $\\alpha > 0$ est un paramètre."
   ]
  },
  {
   "cell_type": "code",
   "execution_count": 47,
   "metadata": {},
   "outputs": [
    {
     "data": {
      "text/plain": [
       "[<matplotlib.lines.Line2D at 0x119f81c18>]"
      ]
     },
     "execution_count": 47,
     "metadata": {},
     "output_type": "execute_result"
    },
    {
     "data": {
      "image/png": "[encoded data removed]",
      "text/plain": [
       "<Figure size 432x288 with 1 Axes>"
      ]
     },
     "metadata": {
      "needs_background": "light"
     },
     "output_type": "display_data"
    }
   ],
   "source": [
    "beta=3\n",
    "a=[]\n",
    "for i in range (1,5000):\n",
    "    exp = random.expovariate(1/beta)\n",
    "    a.append(exp)\n",
    "    \n",
    "# on trace l'histogramme\n",
    "binwidth=0.3\n",
    "pyplot.xlim(0,15)\n",
    "bins=numpy.arange(0.,15, binwidth)\n",
    "pyplot.hist(a,bins,density=True);\n",
    "\n",
    "# on ajoute à l'histogramme la fonction analytique\n",
    "xc = bins[:-1] + binwidth/2\n",
    "pyplot.plot(xc,(1/beta)*numpy.exp(-(1/beta)*xc), lw=2)"
   ]
  },
  {
   "cell_type": "markdown",
   "metadata": {},
   "source": [
    "Représentons sur un autre histogramme la méthode de Von Neumann, en utilisant cette fois-ci la méthode \"numpy.extract\":"
   ]
  },
  {
   "cell_type": "code",
   "execution_count": 64,
   "metadata": {
    "scrolled": true
   },
   "outputs": [
    {
     "data": {
      "image/png": "[encoded data removed]",
      "text/plain": [
       "<Figure size 432x288 with 1 Axes>"
      ]
     },
     "metadata": {
      "needs_background": "light"
     },
     "output_type": "display_data"
    }
   ],
   "source": [
    "N = 1000000\n",
    "# On distribue g selon une distribution uniforme\n",
    "g = numpy.random.uniform(0,10,N)\n",
    "\n",
    "# probabilité que g soit uniformément distribué\n",
    "p_g_unif = numpy.random.uniform(0,10,N)\n",
    "\n",
    "# probabilité que g soit distribué selon une exponentielle\n",
    "p_g_exp = numpy.exp(-g)\n",
    "\n",
    "# On tire un deuxième nombre selon une distribution uniforme pour la condition de rejet\n",
    "uniform2 = numpy.random.random_sample(N)\n",
    "\n",
    "# condition de rejet\n",
    "condition = uniform2 < p_g_exp / (2*p_g_unif)\n",
    "\n",
    "# on extrait les nombres satisfaisant à la condition\n",
    "h = numpy.extract(condition,g)\n",
    "\n",
    "# on trace l'histrogramme\n",
    "binwidth=0.03\n",
    "bins=numpy.arange(0.,7, binwidth)\n",
    "pyplot.hist(h,bins,density='true',color='orange');"
   ]
  },
  {
   "cell_type": "markdown",
   "metadata": {},
   "source": [
    "Nous obtenons donc une distribution exponentielle avec les trois méthodes. "
   ]
  },
  {
   "cell_type": "markdown",
   "metadata": {},
   "source": [
    "## Challenge 2"
   ]
  },
  {
   "cell_type": "markdown",
   "metadata": {},
   "source": [
    "Nous allons à présent implémenter l'algorithme de Box-Muller [2] permettant de générer des nombres aléatoires distribués selon une gaussienne. Pour cela, nous commençons d'abord par une description de l'algorithme."
   ]
  },
  {
   "cell_type": "markdown",
   "metadata": {},
   "source": [
    "Supposons que $u1$ et $u2$ sont deux variables indépendantes distribuées uniformément dans l'intervalle [0,1]. Posons\n",
    "\n",
    "$$\n",
    "z1 = \\sqrt{-2 \\mbox{ln}(u1)} \\mbox{cos}(2 \\pi u2)\n",
    "$$\n",
    "\n",
    "$$\n",
    "z2 = \\sqrt{-2 \\mbox{ln}(u1)} \\mbox{sin}(2 \\pi u2)\n",
    "$$\n",
    "\n",
    "Alors $z1$ et $z2$ sont deux gaussiennes de moyenne nulle et de variance 1. \n",
    "\n",
    "Vérifions cela comme suit."
   ]
  },
  {
   "cell_type": "code",
   "execution_count": 68,
   "metadata": {},
   "outputs": [
    {
     "data": {
      "image/png": "[encoded data removed]",
      "text/plain": [
       "<Figure size 432x432 with 4 Axes>"
      ]
     },
     "metadata": {
      "needs_background": "light"
     },
     "output_type": "display_data"
    }
   ],
   "source": [
    "from numpy import random, sqrt, log, sin, cos, pi\n",
    "from pylab import show,hist,subplot,figure\n",
    "\n",
    "# u1 et u2 sont uniformément distribués entre 0 et 1\n",
    "u1 = random.rand(10000)\n",
    "u2 = random.rand(10000)\n",
    "\n",
    "# on définit la fonction qui va transformer u1 et u2 en z1 et z2 distribués selon une normale\n",
    "def gaussian(u1,u2):\n",
    "    z1 = sqrt(-2*log(u1))*cos(2*pi*u2)\n",
    "    z2 = sqrt(-2*log(u1))*sin(2*pi*u2)\n",
    "    return z1,z2\n",
    "\n",
    "# on applique la fonction \"gaussian\" à u1 et u2\n",
    "z1,z2 = gaussian(u1,u2)\n",
    "\n",
    "# on trace les histogrammes \n",
    "binwidth=0.5\n",
    "bins1=numpy.arange(0,2, binwidth)\n",
    "bins2=numpy.arange(-5,5, binwidth)\n",
    "\n",
    "f = plt.figure(figsize=(6,6))\n",
    "f.subplots_adjust(hspace=0.5, wspace=0.5)\n",
    "ax1 = f.add_subplot(221)\n",
    "ax2 = f.add_subplot(222)\n",
    "ax3 = f.add_subplot(223)\n",
    "ax4 = f.add_subplot(224)\n",
    "\n",
    "ax1.hist(u1, bins1)\n",
    "ax2.hist(u2, bins1)\n",
    "ax3.hist(z1, bins2)\n",
    "ax4.hist(z2, bins2)\n",
    "\n",
    "ax1.title.set_text('u1')\n",
    "ax2.title.set_text('u2')\n",
    "ax3.title.set_text('z1')\n",
    "ax4.title.set_text('z2')"
   ]
  },
  {
   "cell_type": "markdown",
   "metadata": {},
   "source": [
    "Comme attendu, les histrogrammes de $u1$ et $u2$ sont des distributions uniformes entre 0 et 1, et les histogrammes de $z1$ et $z2$ en dessous sont des distributions gaussiennes. Nous concluons donc que l'algorithme de Box-Muller génère des nombres aléatoires distribués selon une normale à partir de nombres aléatoires uniformément distribués."
   ]
  },
  {
   "cell_type": "markdown",
   "metadata": {},
   "source": [
    "Références:\n",
    "\n",
    "[1]  http://www.columbia.edu/~ks20/4703-Sigman/4703-07-Notes-ARM.pdf\n",
    "\n",
    "[2]  https://glowingpython.blogspot.com/2013/01/box-muller-transformation.html"
   ]
  }
 ],
 "metadata": {
  "kernelspec": {
   "display_name": "Python 3",
   "language": "python",
   "name": "python3"
  },
  "language_info": {
   "codemirror_mode": {
    "name": "ipython",
    "version": 3
   },
   "file_extension": ".py",
   "mimetype": "text/x-python",
   "name": "python",
   "nbconvert_exporter": "python",
   "pygments_lexer": "ipython3",
   "version": "3.7.0"
  }
 },
 "nbformat": 4,
 "nbformat_minor": 2
}
