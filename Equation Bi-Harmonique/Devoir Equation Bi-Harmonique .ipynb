{
 "cells": [
  {
   "cell_type": "markdown",
   "metadata": {},
   "source": [
    "## Résolution de l'équation bi-harmonique\n",
    "\n",
    "L'équation de départ est l'équation de Navier-Stokes:\n",
    "\n",
    "\\begin{equation}\n",
    "\\frac{\\partial \\vec{u}}{\\partial t} + \\vec{u} \\cdot \\nabla \\vec{u} = -\\frac{1}{\\rho}\\nabla p + \\nu\\nabla^2 \\vec{u}\n",
    "\\end{equation}\n",
    "\n",
    "où $\\vec{u}$ est la vitesse du fluide, $P$ est la pression du fluide, $\\rho$ est sa densité et $v$ sa viscosité. \n",
    "\n",
    "Afin d'obtenir l'écoulement de Stokes, on pose à zéro le membre de gauche de cette équation, ce qui donne:\n",
    "\n",
    "\\begin{equation}\n",
    "0 = -\\nabla p + \\nabla^2 \\vec{u}\n",
    "\\end{equation}\n",
    "\n",
    "Nous appliquons ensuite l'opérateur rotationnel à l'équation ci-dessus:\n",
    "\n",
    "\\begin{equation}\n",
    "\\nabla \\times \\left( - \\nabla p + \\nabla^2 \\vec{u}\\right) = 0\n",
    "\\end{equation}\n",
    "\n",
    "Après avoir posé $$\\vec{\\omega} = \\nabla \\times \\vec{u},$$ où $\\vec{\\omega}$ est la vorticité, nous obtenons:\n",
    "\n",
    "\\begin{equation}\n",
    "\\nabla^2 \\vec{\\omega} = 0\n",
    "\\end{equation}\n",
    "\n",
    "qui est l'équation de transport pour la vorticité.\n",
    "Plaçons nous dans le cas à deux dimensions. Le vecteur $u$ peut alors s'écrire \n",
    "\n",
    "\\begin{equation}\n",
    "\\vec{u} = (u,v,0)\n",
    "\\end{equation}\n",
    "\n",
    "En introduisant la fonction de flux $\\psi$, définie par:\n",
    "\\begin{equation}\n",
    "u = \\frac{\\partial \\psi}{\\partial y} \\text{  et   } v = - \\frac{\\partial \\psi}{\\partial x}\n",
    "\\end{equation}\n",
    "\n",
    "la vorticité $\\vec{\\omega}$ devient alors:\n",
    "\\begin{equation}\n",
    "\\nabla^2 \\psi = -\\vec{\\omega}\n",
    "\\end{equation}\n",
    "\n",
    "Nous avons donc le système suivant:\n",
    "\\begin{equation}\n",
    "\\nabla^2 \\vec{\\omega} = 0\n",
    "\\end{equation}\n",
    "\\begin{equation}\n",
    "\\nabla^2 \\psi = -\\vec{\\omega}\n",
    "\\end{equation}\n",
    "\n",
    "L'équation qu'on extrait pour $\\psi$ est appelée équation bi-harmonique:\n",
    "\n",
    "\\begin{equation}\n",
    "\\nabla^4 \\psi= 0\n",
    "\\end{equation}\n",
    "\n",
    "avec $\\nabla^4$ étant le bi-laplacien.\n",
    "\n",
    "C'est l'équation qu'on devra résoudre.\n",
    "\n",
    "En coordonnées cartésiennes à deux dimensions, l'équation bi-harmonique s'écrit de la manière suivante:\n",
    "\n",
    "\\begin{equation}\n",
    "\\frac{\\partial^4 \\psi}{\\partial x^4} + \\frac{\\partial^4 \\psi}{\\partial y^4} + 2\\frac{\\partial^4 \\psi}{\\partial x^2 \\partial y^2} = 0\n",
    "\\end{equation}\n",
    "\n",
    "Nous allons l'écrire en termes de différences centrées finies avec une précision du second ordre. En utilisant les coefficients fournis sur la page web [1], nous obtenons, après quelques calculs, la discrétisation suivante (où nous avons posé $\\Delta x = \\Delta y = \\Delta$):\n",
    "\n",
    "\\begin{align*}\n",
    "\\nabla^4 \\psi_{i,j} &= 20 \\psi_{i,j} - 8(\\psi_{i-1,j} + \\psi_{i+1,j} + \\psi_{i,j-1} + \\psi_{i,j+1})\\\\\n",
    "&+ 2(\\psi_{i+1,j+1} + \\psi_{i+1,j-1} + \\psi_{i-1,j+1} + \\psi_{i-1,j-1})\\\\\n",
    "&+ \\psi_{i-2,j} + \\psi_{i+2,j} + \\psi_{i,j-2} + \\psi_{i,j+2} \\simeq 0\n",
    "\\end{align*}\n",
    "\n",
    "où $i,j = 0,..,N$."
   ]
  },
  {
   "cell_type": "markdown",
   "metadata": {},
   "source": [
    "On place à présent le fluide dans une cavité carrée avec un couvercle mobile. On va résoudre le problème appelé \"lid-driven cavity flow\". Cela consiste à résoudre l'équation pour le flux $\\psi$ du fluide dans la cavité causé par le mouvement du couvercle.\n",
    "On suppose donc pour les quatre parois qu'on a une condition de non-glissement, c'est à dire que le fluide ne glisse pas sur la surface solide, ce qui implique une vitesse tangentielle du fluide à la surface nulle ($\\psi =0 $). La vitesse est nulle dans la direction perpendiculaire à la surface (puisque le fluide ne peut pas la traverser). La cavité possède un couvercle mobile qui se déplace à vitesse constante $u=1$, traduit par la condition $\\frac{\\partial \\psi}{\\partial y} =1 $. Toutes les autres parois restent fixes ($\\frac{\\partial \\psi}{\\partial x,y} =0 $). Ci-dessous sont représentées schématiquement les conditions aux bords qu'il faudra implémenter:"
   ]
  },
  {
   "cell_type": "markdown",
   "metadata": {},
   "source": [
    "<img src=\"./cavity.png\" width=400px>"
   ]
  },
  {
   "cell_type": "markdown",
   "metadata": {},
   "source": [
    "Si nous décomposons notre domaine en $(N+1) \\times (N+1)$ points et nous supposons que chaque côté est de longueur L, nous obtenons:\n",
    "\n",
    "pour $x$:\n",
    "\n",
    "\\begin{align*}\n",
    "&\\psi_{0}=0\\\\\n",
    "&\\psi_{N}=0\\\\\n",
    "&\\frac{\\partial \\psi}{\\partial x}(x=0)=0\\\\\n",
    "&\\frac{\\partial \\psi}{\\partial x}(x=L)=0\n",
    "\\end{align*}\n",
    "\n",
    "\n",
    "pour $y$:\n",
    "\n",
    "\\begin{align*}\n",
    "&\\psi_{0}=0\\\\\n",
    "&\\psi_{N}=0\\\\\n",
    "&\\frac{\\partial \\psi}{\\partial y}(y=0)=0\\\\\n",
    "&\\frac{\\partial \\psi}{\\partial y}(y=L)=1\n",
    "\\end{align*}"
   ]
  },
  {
   "cell_type": "markdown",
   "metadata": {},
   "source": [
    "Discrétisons les 4 dérivées partielles ci-dessus. Pour les dérivées en $x=0$ et $y=0$, nous utilisons \"Forward finite differences\", et pour celles en $x=L$ et $y=L$, nous utilisons \"Backward finite differences\".\n",
    "\n",
    "Pour $x$:\n",
    "\n",
    "\\begin{equation}\n",
    "\\frac{\\partial \\psi}{\\partial x}(x=0)=0 \\simeq \\frac{-3/2 \\psi_{0} + 2\\psi_{1} - 1/2 \\psi_{2}}{\\Delta}\n",
    "\\end{equation}\n",
    "\n",
    "\\begin{equation}\n",
    "\\frac{\\partial \\psi}{\\partial x}(x=L)=0 \\simeq \\frac{3/2 \\psi_{N} + -2\\psi_{N-1} + 1/2 \\psi_{N-2}}{\\Delta}\n",
    "\\end{equation}\n",
    "\n",
    "Comme $\\psi_{0}=0$ et $\\psi_{N}=0$, \n",
    "\n",
    "\\begin{equation}\n",
    "4 \\psi_{1} - \\psi_{2}=0 \\Rightarrow \\psi_{2}=4 \\psi_{1}\n",
    "\\end{equation}\n",
    "\n",
    "\\begin{equation}\n",
    "-4 \\psi_{N-1} + \\psi_{N-2}=0 \\Rightarrow \\psi_{N-2}=4 \\psi_{N-1}\n",
    "\\end{equation}\n"
   ]
  },
  {
   "cell_type": "markdown",
   "metadata": {},
   "source": [
    "Pour $y$:\n",
    "\n",
    "\\begin{equation}\n",
    "\\frac{\\partial \\psi}{\\partial y}(y=0)=0 \\simeq \\frac{-3/2 \\psi_{0} + 2\\psi_{1} - 1/2 \\psi_{2}}{\\Delta}\n",
    "\\end{equation}\n",
    "\n",
    "\\begin{equation}\n",
    "\\frac{\\partial \\psi}{\\partial x}(x=L)=1 \\simeq \\frac{3/2 \\psi_{N} -2\\psi_{N-1} + 1/2 \\psi_{N-2}}{\\Delta}\n",
    "\\end{equation}\n",
    "\n",
    "Comme $\\psi_{0}=0$ et $\\psi_{N}=0$, \n",
    "\n",
    "\\begin{equation}\n",
    "4 \\psi_{1} - \\psi_{2}=0 \\Rightarrow \\psi_{2}=4 \\psi_{1}\n",
    "\\end{equation}\n",
    "\n",
    "\\begin{equation}\n",
    "2 \\Delta = \\psi_{N-2} - 4\\psi_{N-1}\n",
    "\\end{equation}"
   ]
  },
  {
   "cell_type": "markdown",
   "metadata": {},
   "source": [
    "En résumé, les conditions à implémenter sont:\n",
    "\n",
    "\\begin{align*}\n",
    "&\\psi_{0,j} = \\psi_{i,0} = \\psi_{N,j} = \\psi_{i,N} = 0 \\\\\n",
    "&\\psi_{2,j}=4 \\psi_{1,j} \\\\\n",
    "&\\psi_{i,2}=4 \\psi_{i,1} \\\\\n",
    "&\\psi_{N-2,j}=4 \\psi_{N-1,j}\\\\\n",
    "& 2 \\Delta = \\psi_{i,N-2} - 4\\psi_{i,N-1}\n",
    "\\end{align*}\n",
    "\n",
    "\n"
   ]
  },
  {
   "cell_type": "markdown",
   "metadata": {},
   "source": [
    "Nous appliquons ces conditions à l'équation bi-harmonique discrétisée écrite plus haut.\n",
    "\n",
    "Par exemple, \n",
    "\n",
    "\\begin{align*}\n",
    "\\nabla^4 \\psi_{i,N-2} &= 20 \\psi_{i,N-2} - 8(\\psi_{i-1,N-2} + \\psi_{i+1,N-2} + \\psi_{i,N-3} + \\psi_{i,N-1})\\\\\n",
    "&+ 2(\\psi_{i+1,N-1} + \\psi_{i+1,N-3} + \\psi_{i-1,N-1} + \\psi_{i-1,N-3})\\\\\n",
    "&+ \\psi_{i-2,N-2} + \\psi_{i+2,N-2} + \\psi_{i,N-4} + \\psi_{i,N} \\\\\n",
    "&= 20 \\psi_{i,N-2} - 8\\left( \\psi_{i-1,N-2} + \\psi_{i+1,N-2} + \\psi_{i,N-3} + \\frac{\\psi_{i,N-2}}{4} -\\Delta/2 \\right) \\\\\n",
    "&+ 2\\left( \\frac{\\psi_{i+1,N-2}}{4} + \\psi_{i+1,N-3} + \\frac{\\psi_{i-1,N-2}}{4} + \\psi_{i-1,N-3} - \\Delta \\right)\\\\\n",
    "&+ \\psi_{i-2,N-2} + \\psi_{i+2,N-2} + \\psi_{i,N-4} \\simeq 0\n",
    "\\end{align*} "
   ]
  },
  {
   "cell_type": "markdown",
   "metadata": {},
   "source": [
    "Donc\n",
    "\n",
    "\\begin{align*}\n",
    "&20 \\psi_{i,N-2} - 8(\\psi_{i-1,N-2} + \\psi_{i+1,N-2} + \\psi_{i,N-3} + \\frac{\\psi_{i,N-2}}{4}) \\\\\n",
    "&+ 2(\\psi_{i+1,N-1} + \\psi_{i+1,N-3} + \\psi_{i-1,N-1} + \\psi_{i-1,N-3})\\\\\n",
    "&+ \\psi_{i-2,N-2} + \\psi_{i+2,N-2} + \\psi_{i,N-4} \\simeq -2\\Delta\n",
    "\\end{align*}"
   ]
  },
  {
   "cell_type": "markdown",
   "metadata": {},
   "source": [
    "Continuons:\n",
    "\n",
    "\\begin{align*}\n",
    "\\nabla^4 \\psi_{i,N-3} \n",
    "&= 20 \\psi_{i,N-3} - 8(\\psi_{i-1,N-3} + \\psi_{i+1,N-3} + \\psi_{i,N-4} + \\psi_{i,N-2})\\\\\n",
    "&+ 2(\\psi_{i+1,N-2} + \\psi_{i+1,N-4} + \\psi_{i-1,N-2} + \\psi_{i-1,N-4})\\\\\n",
    "&+ \\psi_{i-2,N-3} + \\psi_{i+2,N-3} + \\psi_{i,N-5} + \\psi_{i,N-1} \\\\\n",
    "&= 20 \\psi_{i,N-3} - 8(\\psi_{i-1,N-3} + \\psi_{i+1,N-3} + \\psi_{i,N-4} + \\psi_{i,N-2}) \\\\\n",
    "&+ 2(\\psi_{i+1,N-2} + \\psi_{i+1,N-4} + \\psi_{i-1,N-2} + \\psi_{i-1,N-4})\\\\\n",
    "&+ \\psi_{i-2,N-3} + \\psi_{i+2,N-3} + \\psi_{i,N-5} + \\frac{\\psi_{i,N-2}}{4} - \\Delta/2 \\simeq 0\n",
    "\\end{align*}\n",
    "\n"
   ]
  },
  {
   "cell_type": "markdown",
   "metadata": {},
   "source": [
    "Donc \n",
    "\n",
    "\\begin{align*}\n",
    "&20 \\psi_{i,N-3} - 8(\\psi_{i-1,N-3} + \\psi_{i+1,N-3} + \\psi_{i,N-4} + \\psi_{i,N-2}) \\\\\n",
    "&+ 2(\\psi_{i+1,N-2} + \\psi_{i+1,N-4} + \\psi_{i-1,N-2} + \\psi_{i-1,N-4})\\\\\n",
    "&+ \\psi_{i-2,N-3} + \\psi_{i+2,N-3} + \\psi_{i,N-5} + \\frac{\\psi_{i,N-2}}{4} \\simeq \\Delta/2\n",
    "\\end{align*}"
   ]
  },
  {
   "cell_type": "markdown",
   "metadata": {},
   "source": [
    "Nous obtenons donc l'équation $A\\psi = b$, où $b_{i}$ est le vecteur suivant:\n",
    "\n",
    "\\begin{align*}\n",
    "  b_{i} &= \\begin{bmatrix}\n",
    "        0 \\\\\n",
    "        0 \\\\\n",
    "        \\vdots \\\\\n",
    "        0 \\\\\n",
    "        0 \\\\\n",
    "        \\vdots \\\\\n",
    "        0 \\\\\n",
    "        \\Delta/2 \\\\\n",
    "        -2\\Delta\\\\\n",
    "        \\end{bmatrix}\n",
    "\\end{align*}\n"
   ]
  },
  {
   "cell_type": "markdown",
   "metadata": {},
   "source": [
    "Résolvons à présent l'équation bi-harmonique grâce à la méthode des gradients conjugués."
   ]
  },
  {
   "cell_type": "code",
   "execution_count": 1,
   "metadata": {},
   "outputs": [],
   "source": [
    "import numpy\n",
    "import matplotlib.pyplot as plt\n",
    "from matplotlib import pyplot\n",
    "%matplotlib inline\n",
    "\n",
    "pyplot.rcParams['font.family'] = 'serif'\n",
    "pyplot.rcParams['font.size'] = 16"
   ]
  },
  {
   "cell_type": "code",
   "execution_count": 2,
   "metadata": {},
   "outputs": [],
   "source": [
    "xmin, xmax = 0.0, 1.0  \n",
    "ymin, ymax = 0.0, 1.0 \n",
    "\n",
    "nx = 41\n",
    "ny = 41\n",
    "\n",
    "l = 1.\n",
    "h = 1.\n",
    "\n",
    "dx = l/(nx-1)\n",
    "dy = h/(ny-1)\n",
    "\n",
    "maxiter = 20000\n",
    "rtol = 1e-8\n",
    "\n",
    "# On génère une grille \n",
    "x = numpy.linspace(xmin, xmax, num=nx)\n",
    "y = numpy.linspace(ymin, ymax, num=ny)\n",
    "X, Y = numpy.meshgrid(x, y)\n",
    "\n",
    "p0 = numpy.zeros((ny, nx)) #p0 est le \"initial guess\"\n",
    "b=numpy.zeros((nx,nx))     #On définit le b\n",
    "b[(nx-5):-3,2:-2]=(dx/2)\n",
    "b[(nx-4):-2,2:-2]=(-2*dx)"
   ]
  },
  {
   "cell_type": "code",
   "execution_count": 3,
   "metadata": {},
   "outputs": [],
   "source": [
    "def L1norm(new, old):\n",
    "    norm = numpy.sum(numpy.abs(new-old))\n",
    "    return norm"
   ]
  },
  {
   "cell_type": "code",
   "execution_count": 4,
   "metadata": {},
   "outputs": [],
   "source": [
    "def bi_harm_conjugate_gradient(p0, maxiter, rtol):\n",
    "    def A(p):\n",
    "        # Apply the Bi-Laplacian operator to p.\n",
    "        return (20*p[2:-2, 2:-2] - 8*p[1:-3, 2:-2] - 8*p[3:-1, 2:-2]\n",
    "                 -8*p[2:-2, 1:-3] -8*p[2:-2, 3:-1]\n",
    "                 +2*(p[3:-1, 3:-1] + p[3:-1, 1:-3] + p[1:-3, 3:-1] + p[1:-3, 1:-3])\n",
    "                 +p[:-4, 2:-2] + p[4:, 2:-2] + p[2:-2, :-4] + p[2:-2, 4:]) \n",
    "\n",
    "\n",
    "    p = p0.copy()\n",
    "    r = numpy.zeros_like(p)  # résidus initial\n",
    "    Ad = numpy.zeros_like(p)# On définit notre Ad*d0\n",
    "    Ad[(nx-7):-5,2:-2]=dx/2\n",
    "    Ad[(nx-6):-4,2:-2]=-4*dx\n",
    "    Ad[(nx-5):-3,2:-2]=21*(dx/2)\n",
    "    Ad[(nx-4):-2,2:-2] = -12*dx\n",
    "    conv = []  # histoire de convergence\n",
    "    diff = rtol + 1  # différence initiale\n",
    "    ite = 0  # index d'itération\n",
    "    # on calcule le résidu initial\n",
    "    r[2:-2, 2:-2] = b[2:-2, 2:-2] - A(p)\n",
    "    # La première direction de recherche est le résidu\n",
    "    d = r.copy()\n",
    "    while diff > rtol and ite < maxiter:\n",
    "        pk = p.copy()\n",
    "        rk = r.copy()\n",
    "        # On calcule de Laplacien de la direction de recherche\n",
    "        Ad[2:-2, 2:-2] = A(d)\n",
    "        # On calcule la longueur du pas\n",
    "        alpha = numpy.sum(r * r) / numpy.sum(d * Ad)\n",
    "        # On modifie la solution\n",
    "        p = pk + alpha * d\n",
    "        # On modifie le résidu\n",
    "        r = rk - alpha * Ad\n",
    "        # On modifie la direction de recherche\n",
    "        beta = numpy.sum(r * r) / numpy.sum(rk * rk)\n",
    "        d = r + beta * d\n",
    "        diff = L1norm(p, pk) #On calcule la différence entre p et pk\n",
    "        conv.append(diff)   #On stocke la valeur dans la liste\n",
    "        ite += 1\n",
    "    p[1:-1,1:2]=(1/4)*p[1:-1,2:3]       #Après que l'algorithme est fini, on utilise les relations afin de trouver les termes au bord\n",
    "    p[1:-1,-2:-1]=(1/4)*p[1:-1,-3:-2]\n",
    "    p[1:2,1:-1]=(1/4)*p[2:3,1:-1]\n",
    "    p[-2:-1,1:-1]=(1/4)*p[-3:-2,1:-1]-(1/2)*dx\n",
    "    return p, ite, conv"
   ]
  },
  {
   "cell_type": "code",
   "execution_count": 13,
   "metadata": {},
   "outputs": [
    {
     "name": "stdout",
     "output_type": "stream",
     "text": [
      "649\n"
     ]
    }
   ],
   "source": [
    "p,ite,conv = bi_harm_conjugate_gradient(p0, maxiter, rtol)\n",
    "print(ite)"
   ]
  },
  {
   "cell_type": "markdown",
   "metadata": {},
   "source": [
    "Ce nombre nous fournit le nombre d'itérations nécéssaires avant d'atteindre la valeur voulue pour $\\psi$."
   ]
  },
  {
   "cell_type": "markdown",
   "metadata": {},
   "source": [
    "Les courbes de niveau pour la fonction de flux $\\psi$ sont représentées ci-dessous:"
   ]
  },
  {
   "cell_type": "code",
   "execution_count": 7,
   "metadata": {},
   "outputs": [
    {
     "data": {
      "text/plain": [
       "<matplotlib.contour.QuadContourSet at 0x1195e8c50>"
      ]
     },
     "execution_count": 7,
     "metadata": {},
     "output_type": "execute_result"
    },
    {
     "data": {
      "image/png": "[encoded data removed]",
      "text/plain": [
       "<Figure size 432x432 with 1 Axes>"
      ]
     },
     "metadata": {
      "needs_background": "light"
     },
     "output_type": "display_data"
    }
   ],
   "source": [
    "plt.figure(figsize=(6,6))\n",
    "plt.contourf(X,Y,p,20)"
   ]
  },
  {
   "cell_type": "markdown",
   "metadata": {},
   "source": [
    "On évalue enfin la fonction $\\psi$ aux points (x,y) suivants: (0.6,0.2), (0.6,0.4), (0.6,0.6), (0.6,0.8)"
   ]
  },
  {
   "cell_type": "code",
   "execution_count": 9,
   "metadata": {},
   "outputs": [
    {
     "name": "stdout",
     "output_type": "stream",
     "text": [
      "-0.043747413741272\n",
      "-0.165688603459544\n",
      "-0.33826669735677634\n",
      "-0.40964395378423324\n"
     ]
    }
   ],
   "source": [
    "print(p[8,24]) #(0.6,0.2)\n",
    "print(p[16,24]) #(0.6,0.4)\n",
    "print(p[24,24]) #(0.6,0.6)\n",
    "print(p[32,24]) #(0.6,0.8)"
   ]
  },
  {
   "cell_type": "markdown",
   "metadata": {},
   "source": [
    "## Conclusion"
   ]
  },
  {
   "cell_type": "markdown",
   "metadata": {},
   "source": [
    "Nous avons d'abord discrétisé l'équation bi-harmonique pour pouvoir la résoudre numériquement grâce à la méthode des gradients conjugués. Nous avons ensuite tracé les courbes de niveau pour la fonction de flux $\\psi$. Pour finir, nous avons évalué la solution en différents points. Nous constatons qu'il y a bien convergence vers une valeur minimale."
   ]
  },
  {
   "cell_type": "markdown",
   "metadata": {},
   "source": [
    "Références:\n",
    "    \n",
    "[1] https://en.wikipedia.org/wiki/Finite_difference_coefficient"
   ]
  }
 ],
 "metadata": {
  "kernelspec": {
   "display_name": "Python 3",
   "language": "python",
   "name": "python3"
  },
  "language_info": {
   "codemirror_mode": {
    "name": "ipython",
    "version": 3
   },
   "file_extension": ".py",
   "mimetype": "text/x-python",
   "name": "python",
   "nbconvert_exporter": "python",
   "pygments_lexer": "ipython3",
   "version": "3.7.0"
  }
 },
 "nbformat": 4,
 "nbformat_minor": 2
}
